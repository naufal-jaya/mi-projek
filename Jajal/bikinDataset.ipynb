{
 "cells": [
  {
   "cell_type": "code",
   "execution_count": null,
   "id": "26a5f6de",
   "metadata": {},
   "outputs": [
    {
     "ename": "",
     "evalue": "",
     "output_type": "error",
     "traceback": [
      "\u001b[1;31mRunning cells with 'Python 3.11.7' requires the ipykernel package.\n",
      "\u001b[1;31m<a href='command:jupyter.createPythonEnvAndSelectController'>Create a Python Environment</a> with the required packages."
     ]
    }
   ],
   "source": [
    "import pandas as pd\n",
    "import random \n",
    "from datetime import datetime, timedelta"
   ]
  },
  {
   "cell_type": "code",
   "execution_count": null,
   "id": "8dd795d3",
   "metadata": {},
   "outputs": [],
   "source": [
    "rute_list = ['A', 'B', 'C', 'D', 'E', 'F']\n",
    "tanggal_list = pd.date_range(start=\"2025-08-01\", end=\"2025-08-31\")\n",
    "jam_list = list(range(5,22))\n",
    "is_weekend = None\n",
    "is_libur = None\n",
    "\n",
    "data = []"
   ]
  }
 ],
 "metadata": {
  "kernelspec": {
   "display_name": "Python 3",
   "language": "python",
   "name": "python3"
  },
  "language_info": {
   "name": "python",
   "version": "3.11.7"
  }
 },
 "nbformat": 4,
 "nbformat_minor": 5
}
